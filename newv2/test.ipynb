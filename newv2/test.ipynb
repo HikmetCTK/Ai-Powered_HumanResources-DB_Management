{
 "cells": [
  {
   "cell_type": "code",
   "execution_count": 4,
   "metadata": {},
   "outputs": [],
   "source": [
    "\n",
    "import pymysql\n",
    "def connect():\n",
    "    \"\"\"\n",
    "    This function will be used to handle connections in other functions.\n",
    "    \"\"\"\n",
    "    try:\n",
    "        connection=pymysql.connect(host='localhost',\n",
    "                               user='root',\n",
    "                               password=\"sql5858\",\n",
    "                               database='human_resources')\n",
    "        return connection\n",
    "    except pymysql.MySQLError as e:\n",
    "        return str(e)\n"
   ]
  },
  {
   "cell_type": "code",
   "execution_count": 2,
   "metadata": {},
   "outputs": [],
   "source": [
    "def see_message(emp_id): # for both side  ##^^##\n",
    "    \n",
    "    \"\"\" emp id is taken from login form to see messages which are sent to him. \"\"\"\n",
    "    try:\n",
    "        connection=connect()\n",
    "        with connection.cursor() as cursor:\n",
    "            \n",
    "            query=\"\"\"select  m.id,e.first_name,e.last_name,m.message_text,m.message_date,m.subject from messages m join employees e on  m.from_emp_id=e.employee_id where to_emp_id=%s; \n",
    "\"\"\"\n",
    "            cursor.execute(query,(emp_id))\n",
    "            messages=cursor.fetchall()\n",
    "            \n",
    "            \"\"\"\n",
    "            ---- you can use this if you want to access each message information ----\n",
    "            messages = records[0] \n",
    "            for (id, name, surname, text, date,subject) in messages:\n",
    "             \"\"\"\n",
    "            return messages\n",
    "    except Exception as e:\n",
    "        return str(e)\n",
    "\n",
    "    finally:\n",
    "        cursor.close()\n",
    "        connection.close()\n",
    "        \n",
    "records=see_message(8)"
   ]
  },
  {
   "cell_type": "code",
   "execution_count": 4,
   "metadata": {},
   "outputs": [
    {
     "name": "stdout",
     "output_type": "stream",
     "text": [
      "<class 'datetime.date'>\n"
     ]
    }
   ],
   "source": [
    "from datetime import date\n",
    "\n",
    "today = date.today()\n",
    "print(type(today))  # Output: <class 'datetime.date'>\n"
   ]
  },
  {
   "cell_type": "code",
   "execution_count": 3,
   "metadata": {},
   "outputs": [
    {
     "data": {
      "text/plain": [
       "((10,\n",
       "  'Bradan',\n",
       "  'Beisley',\n",
       "  'this is single message attempting',\n",
       "  datetime.datetime(2024, 11, 27, 0, 34, 44),\n",
       "  None),\n",
       " (19,\n",
       "  'Bradan',\n",
       "  'Beisley',\n",
       "  'this is single message attempting2',\n",
       "  datetime.datetime(2024, 12, 3, 0, 56, 1),\n",
       "  'acil!!'))"
      ]
     },
     "execution_count": 3,
     "metadata": {},
     "output_type": "execute_result"
    }
   ],
   "source": [
    "records"
   ]
  },
  {
   "cell_type": "code",
   "execution_count": 7,
   "metadata": {},
   "outputs": [],
   "source": [
    "def load_employee_for_message_selection(search_term): #  for message interface\n",
    "    connection=connect()\n",
    "    try:\n",
    "\n",
    "        with connection.cursor() as cursor:\n",
    "            query=\"\"\"select employee_id,\n",
    "            first_name, \n",
    "            last_name, \n",
    "            job_title,\n",
    "            department from employees where first_name like %s or  last_name=%s \"\"\"\n",
    "            cursor.execute(query, (f\"%{search_term}%\", f\"%{search_term}%\"))\n",
    "            employees=cursor.fetchall()\n",
    "            return employees\n",
    "    except pymysql.MySQLError as e:\n",
    "        return str(e)\n",
    "    finally:\n",
    "        connection.close()\n",
    "        \n",
    "\n",
    "        "
   ]
  },
  {
   "cell_type": "code",
   "execution_count": 8,
   "metadata": {},
   "outputs": [
    {
     "data": {
      "text/plain": [
       "((2, 'Hikmet', 'Catak', 'Human resources', 'engineer'),)"
      ]
     },
     "execution_count": 8,
     "metadata": {},
     "output_type": "execute_result"
    }
   ],
   "source": [
    "load_employee_for_message_selection(\"hik\")"
   ]
  },
  {
   "cell_type": "code",
   "execution_count": 9,
   "metadata": {},
   "outputs": [],
   "source": [
    "def load_employee_for_message_selection(search_term): #  for message interface\n",
    "    connection=connect()\n",
    "    try:\n",
    "\n",
    "        with connection.cursor() as cursor:\n",
    "            query=\"\"\"select employee_id,\n",
    "            first_name, \n",
    "            last_name, \n",
    "            job_title,\n",
    "            department from employees where first_name like %s or  last_name=%s \"\"\"\n",
    "            cursor.execute(query, (f\"%{search_term}%\", f\"%{search_term}%\"))\n",
    "            employees=cursor.fetchall()\n",
    "            return employees\n",
    "    except pymysql.MySQLError as e:\n",
    "        return str(e)\n",
    "    finally:\n",
    "        connection.close()"
   ]
  },
  {
   "cell_type": "code",
   "execution_count": 12,
   "metadata": {},
   "outputs": [
    {
     "data": {
      "text/plain": [
       "((1, 'Alvin', 'Fernier', 'Human resources', 'IT'),\n",
       " (2, 'Hikmet', 'Catak', 'Human resources', 'engineer'),\n",
       " (3, 'Fevzi', 'Fid', 'Engineer', 'IT'),\n",
       " (4, 'Sibylle', 'Houtby', 'Senior Cost Accountant', 'IT'),\n",
       " (5, 'Bail', 'Frere', 'Data Coordinator', 'Finance'),\n",
       " (6, 'Bondie', 'Astbury', 'VP Marketing', 'IT'),\n",
       " (7, 'nikita', 'nikitaa', 'Assistant ', 'IT'),\n",
       " (8, 'ömer', 'faruk', 'engineer', 'Finance'),\n",
       " (9, 'Corilla', 'Cornejo', 'Operator', 'IT'),\n",
       " (10, 'Felipa', 'Helder', 'Biostatistician III', 'HR'),\n",
       " (11, 'Erik', 'Aust', 'Nurse Practicioner', 'Finance'),\n",
       " (12, 'Mallory', 'Dodimead', 'Database Administrator III', 'HR'),\n",
       " (13, 'Trina', 'Boig', 'VP Product Management', 'IT'),\n",
       " (14, 'Neill', 'Swannick', 'Senior Developer', 'HR'),\n",
       " (15, 'Brynne', 'Rorke', 'Cost Accountant', 'Marketing'),\n",
       " (16, 'Elwood', 'Crandon', 'Food Chemist', 'IT'),\n",
       " (17, 'Eddie', 'Hutcheon', 'Statistician I', 'Finance'),\n",
       " (18, 'Adriaens', 'Tulk', 'Professor', 'Finance'),\n",
       " (19, 'Ruth', 'Peile', 'Associate Professor', 'Finance'),\n",
       " (20, 'Aggie', 'Weedall', 'Software Engineer IV', 'IT'),\n",
       " (21, 'Artur', 'Reah', 'VP Product Management', 'IT'),\n",
       " (22, 'Joaquin', 'Hamal', 'Speech Pathologist', 'HR'),\n",
       " (23, 'Cointon', 'Matterface', 'Pharmacist', 'HR'),\n",
       " (24, 'Clayton', 'Hail', 'Engineer IV', 'IT'),\n",
       " (25, 'Jeana', 'Miko', 'General Manager', 'Marketing'),\n",
       " (26, 'Bailie', 'Chasier', 'Statistician IV', 'HR'),\n",
       " (27, 'Ellyn', 'Plastow', 'Payment Adjustment Coordinator', 'IT'),\n",
       " (28, 'Jackie', 'Latore', 'Software Test Engineer III', 'IT'),\n",
       " (29, 'Derick', 'Pietruszka', 'Design Engineer', 'Marketing'),\n",
       " (30, 'Frazier', 'Gamlyn', 'Actuary', 'HR'),\n",
       " (31, 'Hilary', 'Stilldale', 'Civil Engineer', 'Finance'),\n",
       " (32, 'Barth', 'Shotboult', 'VP Accounting', 'IT'),\n",
       " (33, 'Brit', 'Corness', 'Registered Nurse', 'IT'),\n",
       " (34, 'Roth', 'Tildesley', 'Sales Associate', 'Marketing'),\n",
       " (35, 'Glennie', 'Guiot', 'Electrical Engineer', 'Finance'),\n",
       " (36, 'Pascale', 'Hackleton', 'Environmental Specialist', 'Finance'),\n",
       " (37, 'Jeremias', 'Simonetto', 'Database Administrator III', 'IT'),\n",
       " (38, 'Frederick', 'Amberson', 'Community Outreach Specialist', 'Finance'),\n",
       " (39, 'Alfie', 'Cabera', 'Senior Editor', 'Finance'),\n",
       " (40, 'Prudi', 'Stedson', 'Senior Sales Associate', 'IT'),\n",
       " (41, 'Whit', 'Smillie', 'Paralegal', 'IT'),\n",
       " (42, 'Kym', 'Willoughway', 'Structural Engineer', 'Finance'),\n",
       " (43, 'Myranda', 'Bride', 'Operator', 'HR'),\n",
       " (44, 'Jennilee', 'Derl', 'Software Test Engineer III', 'IT'),\n",
       " (45, 'Lin', 'Dummigan', 'VP Accounting', 'IT'),\n",
       " (46, 'Miran', 'Tue', 'Clinical Specialist', 'Finance'),\n",
       " (47, 'Sophi', 'Rudham', 'Recruiter', 'IT'),\n",
       " (48, 'Waiter', 'Meach', 'Accountant II', 'Marketing'),\n",
       " (49, 'Shayne', 'Pringuer', 'Nuclear Power Engineer', 'HR'),\n",
       " (50, 'Sascha', 'Gamage', 'Database Administrator IV', 'Marketing'),\n",
       " (51, 'ali', 'San', 'Human Resources', 'IT'),\n",
       " (52, 'ali', 'Sai', 'Human Resources', 'IT'),\n",
       " (53, 'ali', 'ali', 'Human Resources', 'IT'),\n",
       " (54, 'emin', 'emin', 'engineer', 'it'),\n",
       " (55, 'user', 'user', 'c+', 'software'),\n",
       " (56, 'asd', 'dsa', 'software', 'it'),\n",
       " (57, 'asdsdsa', 'sdsadsa', 'software', 'it'))"
      ]
     },
     "execution_count": 12,
     "metadata": {},
     "output_type": "execute_result"
    }
   ],
   "source": [
    "load_employee_for_message_selection(\"\")"
   ]
  },
  {
   "cell_type": "code",
   "execution_count": 15,
   "metadata": {},
   "outputs": [],
   "source": [
    "from datetime import datetime,date\n",
    "import calendar\n",
    "def process_special_request(request_id, status, approved_by):#Yönetici talebi onaylar veya ret eder\n",
    "    \n",
    "    connection = connect()\n",
    "\n",
    "    try:\n",
    "        with connection.cursor() as cursor:\n",
    "            answer_date = date.today()\n",
    "            sql = \"\"\"\n",
    "            UPDATE special_requests \n",
    "            SET status_of_special_request = %s, \n",
    "                approved_by = %s, \n",
    "                answer_date = %s\n",
    "            WHERE request_id = %s\n",
    "            \"\"\"\n",
    "            cursor.execute(sql, (status, approved_by, answer_date,request_id))\n",
    "            connection.commit()\n",
    "            \n",
    "    except Exception as e:\n",
    "        \n",
    "        print(f\"Özel talep işlenirken hata: {e}\")\n",
    "        return False\n",
    "    \n",
    "    finally:\n",
    "        cursor.close()\n",
    "        connection.close()\n"
   ]
  },
  {
   "cell_type": "code",
   "execution_count": 16,
   "metadata": {},
   "outputs": [],
   "source": [
    "process_special_request(5,\"Approved\",1)"
   ]
  },
  {
   "cell_type": "code",
   "execution_count": null,
   "metadata": {},
   "outputs": [],
   "source": []
  },
  {
   "cell_type": "code",
   "execution_count": null,
   "metadata": {},
   "outputs": [],
   "source": []
  }
 ],
 "metadata": {
  "kernelspec": {
   "display_name": "base",
   "language": "python",
   "name": "python3"
  },
  "language_info": {
   "codemirror_mode": {
    "name": "ipython",
    "version": 3
   },
   "file_extension": ".py",
   "mimetype": "text/x-python",
   "name": "python",
   "nbconvert_exporter": "python",
   "pygments_lexer": "ipython3",
   "version": "3.10.9"
  }
 },
 "nbformat": 4,
 "nbformat_minor": 2
}
