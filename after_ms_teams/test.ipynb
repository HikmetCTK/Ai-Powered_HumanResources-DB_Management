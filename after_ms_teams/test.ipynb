{
 "cells": [
  {
   "cell_type": "code",
   "execution_count": 5,
   "metadata": {},
   "outputs": [],
   "source": [
    "def connect():\n",
    "    try:\n",
    "        connection=pymysql.connect(host='localhost',\n",
    "                               user='root',\n",
    "                               password=\"sql5858\",\n",
    "                               database='human_resources')\n",
    "        return connection\n",
    "    except pymysql.MySQLError as e:\n",
    "        return str(e)\n"
   ]
  },
  {
   "cell_type": "code",
   "execution_count": 12,
   "metadata": {},
   "outputs": [],
   "source": [
    "def execute_search(cursor, sql: str, first_name: Optional[str], last_name: Optional[str]):\n",
    "   \n",
    "    conditions = []\n",
    "    params = []\n",
    "    \n",
    "    if first_name:\n",
    "        conditions.append[\"AND e.first_name LIKE %s\"]\n",
    "        params.append(f\"%{first_name}%\")\n",
    "    else:\n",
    "        conditions.append[\"\"]\n",
    "        \n",
    "    if last_name:\n",
    "        conditions[ \"AND e.last_name LIKE %s\"]\n",
    "        params.append(f\"%{last_name}%\")\n",
    "    else:\n",
    "        conditions.append[\"\"]\n",
    "    formatted_sql = sql.format(**conditions)\n",
    "    cursor.execute(formatted_sql, params)\n",
    "    return cursor.fetchall()"
   ]
  },
  {
   "cell_type": "code",
   "execution_count": 13,
   "metadata": {},
   "outputs": [],
   "source": [
    "from typing import Optional\n",
    "def search_special_requests(first_name: Optional[str] = None, last_name: Optional[str] = None):\n",
    "    try:\n",
    "        connection= connect()\n",
    "        cursor = connection.cursor(pymysql.cursors.DictCursor)\n",
    "        \n",
    "        sql = \"\"\"\n",
    "        SELECT \n",
    "            e.employee_id,\n",
    "            e.first_name,\n",
    "            e.last_name,\n",
    "            e.department,\n",
    "            e.job_title,\n",
    "            sr.request_id,\n",
    "            sr.request_type,\n",
    "            sr.request_amount,\n",
    "            sr.request_date,\n",
    "            sr.status_of_request,\n",
    "            sr.approved_by,\n",
    "            sr.description,\n",
    "            sr.answer_date\n",
    "        FROM \n",
    "            employees e\n",
    "            INNER JOIN special_requests sr ON e.employee_id = sr.employee_id\n",
    "        WHERE \n",
    "            1=1\n",
    "            {first_name_condition}\n",
    "            {last_name_condition}\n",
    "        ORDER BY \n",
    "            sr.request_date DESC\n",
    "        \"\"\"\n",
    "        \n",
    "        return execute_search(cursor, sql, first_name, last_name)\n",
    "        \n",
    "    except Exception as e:\n",
    "        print(f\"Arama sırasında hata oluştu: {str(e)}\")\n",
    "        return []\n",
    "    \n",
    "    finally:\n",
    "        if cursor:\n",
    "            cursor.close()\n",
    "        if connection:\n",
    "            connection.close()"
   ]
  },
  {
   "cell_type": "code",
   "execution_count": 14,
   "metadata": {},
   "outputs": [],
   "source": [
    "import pymysql"
   ]
  },
  {
   "cell_type": "code",
   "execution_count": 16,
   "metadata": {},
   "outputs": [
    {
     "name": "stdout",
     "output_type": "stream",
     "text": [
      "Arama sırasında hata oluştu: 'builtin_function_or_method' object is not subscriptable\n"
     ]
    },
    {
     "data": {
      "text/plain": [
       "[]"
      ]
     },
     "execution_count": 16,
     "metadata": {},
     "output_type": "execute_result"
    }
   ],
   "source": [
    "search_special_requests(first_name=\"b\",)"
   ]
  },
  {
   "cell_type": "code",
   "execution_count": 38,
   "metadata": {},
   "outputs": [],
   "source": [
    "def search_special_requests(first_name: Optional[str] = None, last_name: Optional[str] = None):\n",
    "    try:\n",
    "        connection= connect()\n",
    "        cursor = connection.cursor()\n",
    "        \n",
    "        sql = \"\"\"\n",
    "        SELECT \n",
    "            e.employee_id,\n",
    "            e.first_name,\n",
    "            e.last_name,\n",
    "            e.department,\n",
    "            e.job_title,\n",
    "            sr.request_id,\n",
    "            sr.request_type,\n",
    "            sr.request_amount,\n",
    "            sr.request_date,\n",
    "            sr.status_of_request,\n",
    "            sr.approved_by,\n",
    "            sr.description,\n",
    "            sr.answer_date\n",
    "        FROM \n",
    "            employees e\n",
    "            JOIN special_requests sr ON e.employee_id = sr.employee_id\n",
    "        where e.first_name LIKE %s OR e.last_name LIKE %s\n",
    "\n",
    "            \"\"\"\n",
    "        cursor.execute(sql, (f\"%{first_name}%\", f\"%{last_name}%\"))\n",
    "        result = cursor.fetchall()\n",
    "        return result\n",
    "    except Exception as e:\n",
    "        return e\n",
    "    finally:\n",
    "        cursor.close()\n",
    "        connection.close()"
   ]
  },
  {
   "cell_type": "code",
   "execution_count": 39,
   "metadata": {},
   "outputs": [
    {
     "data": {
      "text/plain": [
       "((1,\n",
       "  'Abbas',\n",
       "  'Fernier',\n",
       "  'IT',\n",
       "  'Human resources',\n",
       "  5,\n",
       "  'Advance',\n",
       "  Decimal('1500.00'),\n",
       "  datetime.date(2024, 2, 15),\n",
       "  'Accepted',\n",
       "  2,\n",
       "  'Acil tıbbi harcamalar için finansal destek ihtiyacı',\n",
       "  datetime.date(2024, 12, 24)),\n",
       " (4,\n",
       "  'Sibylle',\n",
       "  'Houtby',\n",
       "  'IT',\n",
       "  'Senior Cost Accountant',\n",
       "  8,\n",
       "  'Other',\n",
       "  Decimal('500.75'),\n",
       "  datetime.date(2024, 2, 28),\n",
       "  'Pending',\n",
       "  6,\n",
       "  'Mesleki gelişim kursu için finansman',\n",
       "  datetime.date(2024, 3, 5)),\n",
       " (5,\n",
       "  'Bail',\n",
       "  'Frere',\n",
       "  'Finance',\n",
       "  'Data Coordinator',\n",
       "  9,\n",
       "  'Advance',\n",
       "  Decimal('1000.00'),\n",
       "  datetime.date(2024, 3, 10),\n",
       "  'Pending',\n",
       "  2,\n",
       "  'Acil kişisel finansal ihtiyaç',\n",
       "  datetime.date(2024, 12, 17)),\n",
       " (6,\n",
       "  'Bondie',\n",
       "  'Astbury',\n",
       "  'IT',\n",
       "  'VP Marketing',\n",
       "  10,\n",
       "  'Salary Increase',\n",
       "  None,\n",
       "  datetime.date(2024, 2, 5),\n",
       "  'Rejected',\n",
       "  5,\n",
       "  'Performansa bağlı maaş ayarlaması',\n",
       "  datetime.date(2024, 2, 15)))"
      ]
     },
     "execution_count": 39,
     "metadata": {},
     "output_type": "execute_result"
    }
   ],
   "source": [
    "search_special_requests(first_name=\"b\")"
   ]
  },
  {
   "cell_type": "code",
   "execution_count": 36,
   "metadata": {},
   "outputs": [],
   "source": [
    "    \n",
    "def search_leave_request(first_name: Optional[str] = None, last_name: Optional[str] = None):\n",
    "    try:\n",
    "        connection= connect()\n",
    "        cursor = connection.cursor()\n",
    "        \n",
    "        sql = \"\"\"\n",
    "        SELECT \n",
    "            e.employee_id,\n",
    "            e.first_name,\n",
    "            e.last_name,\n",
    "            e.department,\n",
    "            e.job_title,\n",
    "            el.leave_request_id,\n",
    "            el.status_of_request,\n",
    "            el.request_date,\n",
    "            el.approved_by,\n",
    "            el.answer_date,\n",
    "            el.leave_type,\n",
    "            el.Start_date,\n",
    "            el.end_date,\n",
    "            el.total_dates,\n",
    "            el.desc_request\n",
    "        FROM \n",
    "            employees e\n",
    "            JOIN employee_leaves el ON e.employee_id = el.employee_id\n",
    "            where e.first_name LIKE %s OR e.last_name LIKE %s\n",
    "\n",
    "            \"\"\"\n",
    "        cursor.execute(sql, (f\"%{first_name}%\", f\"%{last_name}%\"))\n",
    "        result = cursor.fetchall()\n",
    "        return result\n",
    "    except Exception as e:\n",
    "        return e\n",
    "    finally:\n",
    "        cursor.close()\n",
    "        connection.close()\n"
   ]
  },
  {
   "cell_type": "code",
   "execution_count": 37,
   "metadata": {},
   "outputs": [
    {
     "data": {
      "text/plain": [
       "((1,\n",
       "  'Abbas',\n",
       "  'Fernier',\n",
       "  'IT',\n",
       "  'Human resources',\n",
       "  39,\n",
       "  'Accepted',\n",
       "  datetime.date(2021, 7, 24),\n",
       "  21,\n",
       "  datetime.date(2022, 1, 10),\n",
       "  'Unpaid Leave',\n",
       "  datetime.date(2020, 12, 12),\n",
       "  datetime.date(2022, 9, 3),\n",
       "  25,\n",
       "  'Cras non velit nec nisi vulputate nonummy. Maecenas tincidunt lacus at velit. Vivamus vel nulla eget eros elementum pellentesque.'),\n",
       " (4,\n",
       "  'Sibylle',\n",
       "  'Houtby',\n",
       "  'IT',\n",
       "  'Senior Cost Accountant',\n",
       "  41,\n",
       "  'Accepted',\n",
       "  datetime.date(2020, 1, 26),\n",
       "  7,\n",
       "  datetime.date(2022, 11, 10),\n",
       "  'Annual Leave',\n",
       "  datetime.date(2020, 6, 17),\n",
       "  datetime.date(2022, 11, 25),\n",
       "  9,\n",
       "  'Quisque porta volutpat erat. Quisque erat eros, viverra eget, congue eget, semper rutrum, nulla. Nunc purus.'),\n",
       " (5,\n",
       "  'Bail',\n",
       "  'Frere',\n",
       "  'Finance',\n",
       "  'Data Coordinator',\n",
       "  33,\n",
       "  'Accepted',\n",
       "  datetime.date(2020, 5, 24),\n",
       "  25,\n",
       "  datetime.date(2020, 11, 2),\n",
       "  'Unpaid Leave',\n",
       "  datetime.date(2022, 5, 27),\n",
       "  datetime.date(2020, 8, 25),\n",
       "  5,\n",
       "  'In congue. Etiam justo. Etiam pretium iaculis justo.\\n\\nIn hac habitasse platea dictumst. Etiam faucibus cursus urna. Ut tellus.'),\n",
       " (15,\n",
       "  'Brynne',\n",
       "  'Rorke',\n",
       "  'Marketing',\n",
       "  'Cost Accountant',\n",
       "  36,\n",
       "  'Accepted',\n",
       "  datetime.date(2020, 8, 6),\n",
       "  26,\n",
       "  datetime.date(2020, 8, 8),\n",
       "  'Unpaid Leave',\n",
       "  datetime.date(2022, 5, 1),\n",
       "  datetime.date(2022, 4, 19),\n",
       "  9,\n",
       "  'Nullam porttitor lacus at turpis. Donec posuere metus vitae ipsum. Aliquam non mauris.'),\n",
       " (15,\n",
       "  'Brynne',\n",
       "  'Rorke',\n",
       "  'Marketing',\n",
       "  'Cost Accountant',\n",
       "  51,\n",
       "  'Accepted',\n",
       "  datetime.date(2020, 1, 24),\n",
       "  23,\n",
       "  datetime.date(2022, 4, 29),\n",
       "  'Health Leave',\n",
       "  datetime.date(2021, 11, 27),\n",
       "  datetime.date(2021, 5, 10),\n",
       "  7,\n",
       "  'Etiam vel augue. Vestibulum rutrum rutrum neque. Aenean auctor gravida sem.\\n\\nPraesent id massa id nisl venenatis lacinia. Aenean sit amet justo. Morbi ut odio.\\n\\nCras mi pede, malesuada in, imperdiet et, commodo vulputate, justo. In blandit ultrices enim. Lorem ipsum dolor sit amet, consectetuer adipiscing elit.'),\n",
       " (15,\n",
       "  'Brynne',\n",
       "  'Rorke',\n",
       "  'Marketing',\n",
       "  'Cost Accountant',\n",
       "  59,\n",
       "  'Rejected',\n",
       "  datetime.date(2021, 8, 16),\n",
       "  2,\n",
       "  datetime.date(2024, 12, 24),\n",
       "  'Unpaid Leave',\n",
       "  datetime.date(2022, 10, 6),\n",
       "  datetime.date(2020, 4, 25),\n",
       "  29,\n",
       "  'Duis bibendum, felis sed interdum venenatis, turpis enim blandit mi, in porttitor pede justo eu massa. Donec dapibus. Duis at velit eu est congue elementum.\\n\\nIn hac habitasse platea dictumst. Morbi vestibulum, velit id pretium iaculis, diam erat fermentum justo, nec condimentum neque sapien placerat ante. Nulla justo.\\n\\nAliquam quis turpis eget elit sodales scelerisque. Mauris sit amet eros. Suspendisse accumsan tortor quis turpis.'),\n",
       " (26,\n",
       "  'Bailie',\n",
       "  'Chasier',\n",
       "  'HR',\n",
       "  'Statistician IV',\n",
       "  58,\n",
       "  'Accepted',\n",
       "  datetime.date(2021, 7, 3),\n",
       "  2,\n",
       "  datetime.date(2024, 12, 24),\n",
       "  'Unpaid Leave',\n",
       "  datetime.date(2022, 10, 14),\n",
       "  datetime.date(2020, 4, 4),\n",
       "  14,\n",
       "  'Pellentesque at nulla. Suspendisse potenti. Cras in purus eu magna vulputate luctus.\\n\\nCum sociis natoque penatibus et magnis dis parturient montes, nascetur ridiculus mus. Vivamus vestibulum sagittis sapien. Cum sociis natoque penatibus et magnis dis parturient montes, nascetur ridiculus mus.\\n\\nEtiam vel augue. Vestibulum rutrum rutrum neque. Aenean auctor gravida sem.'))"
      ]
     },
     "execution_count": 37,
     "metadata": {},
     "output_type": "execute_result"
    }
   ],
   "source": [
    "search_leave_request(first_name=\"b\")"
   ]
  },
  {
   "cell_type": "code",
   "execution_count": 40,
   "metadata": {},
   "outputs": [],
   "source": [
    "\n",
    "def get_pending_special_requests():#Beklemede Olan tüm talepleri getirir enum type dikkat\n",
    "\n",
    "    connection = connect()\n",
    "\n",
    "    try:\n",
    "        with connection.cursor() as cursor:\n",
    "            sql = \"\"\"\n",
    "            SELECT * FROM special_requests \n",
    "            WHERE status_of_request = 'Pending'\n",
    "            \"\"\"\n",
    "            cursor.execute(sql)\n",
    "            return cursor.fetchall()\n",
    "    except Exception as e:\n",
    "        print(f\"Bekleyen özel talepler getirilirken hata: {e}\")\n",
    "        return str(e)\n",
    "\n",
    "    finally:\n",
    "        cursor.close()\n",
    "        connection.close()\n"
   ]
  },
  {
   "cell_type": "code",
   "execution_count": 42,
   "metadata": {},
   "outputs": [
    {
     "data": {
      "text/plain": [
       "((8,\n",
       "  4,\n",
       "  'Other',\n",
       "  Decimal('500.75'),\n",
       "  datetime.date(2024, 2, 28),\n",
       "  'Pending',\n",
       "  6,\n",
       "  'Mesleki gelişim kursu için finansman',\n",
       "  datetime.date(2024, 3, 5),\n",
       "  datetime.datetime(2024, 12, 17, 2, 16, 52)),\n",
       " (9,\n",
       "  5,\n",
       "  'Advance',\n",
       "  Decimal('1000.00'),\n",
       "  datetime.date(2024, 3, 10),\n",
       "  'Pending',\n",
       "  2,\n",
       "  'Acil kişisel finansal ihtiyaç',\n",
       "  datetime.date(2024, 12, 17),\n",
       "  datetime.datetime(2024, 12, 17, 2, 16, 52)))"
      ]
     },
     "execution_count": 42,
     "metadata": {},
     "output_type": "execute_result"
    }
   ],
   "source": [
    "get_pending_special_requests()"
   ]
  },
  {
   "cell_type": "code",
   "execution_count": 46,
   "metadata": {},
   "outputs": [],
   "source": [
    "def pending_leave_requests_for_employee(employee_id):\n",
    "    connection=connect()\n",
    "    try:\n",
    "        with connection.cursor() as cursor:\n",
    "            query=\"select leave_type,status_of_request,request_date,answer_date from employee_leaves where employee_id=%s and status_of_request='Pending'\"\n",
    "            cursor.execute(query,(employee_id))\n",
    "            records=cursor.fetchall()\n",
    "            return records\n",
    "    except  Exception as e:\n",
    "        return str(e)\n",
    "    finally:\n",
    "        cursor.close()\n",
    "        connection.close()\n",
    "         "
   ]
  },
  {
   "cell_type": "code",
   "execution_count": 53,
   "metadata": {},
   "outputs": [
    {
     "ename": "NameError",
     "evalue": "name 'ehutcheong' is not defined",
     "output_type": "error",
     "traceback": [
      "\u001b[1;31m---------------------------------------------------------------------------\u001b[0m",
      "\u001b[1;31mNameError\u001b[0m                                 Traceback (most recent call last)",
      "Cell \u001b[1;32mIn[53], line 1\u001b[0m\n\u001b[1;32m----> 1\u001b[0m \u001b[43mehutcheong\u001b[49m\u001b[38;5;129m@sitemeter\u001b[39m\u001b[38;5;241m.\u001b[39mcom\n",
      "\u001b[1;31mNameError\u001b[0m: name 'ehutcheong' is not defined"
     ]
    }
   ],
   "source": [
    "ehutcheong@sitemeter.com\n",
    "852\"l\n",
    " "
   ]
  },
  {
   "cell_type": "code",
   "execution_count": 52,
   "metadata": {},
   "outputs": [
    {
     "data": {
      "text/plain": [
       "(('Unpaid Leave',\n",
       "  'Pending',\n",
       "  datetime.date(2022, 1, 22),\n",
       "  datetime.date(2021, 5, 20)),)"
      ]
     },
     "execution_count": 52,
     "metadata": {},
     "output_type": "execute_result"
    }
   ],
   "source": [
    "pending_leave_requests_for_employee(20)"
   ]
  },
  {
   "cell_type": "code",
   "execution_count": null,
   "metadata": {},
   "outputs": [],
   "source": []
  }
 ],
 "metadata": {
  "kernelspec": {
   "display_name": "base",
   "language": "python",
   "name": "python3"
  },
  "language_info": {
   "codemirror_mode": {
    "name": "ipython",
    "version": 3
   },
   "file_extension": ".py",
   "mimetype": "text/x-python",
   "name": "python",
   "nbconvert_exporter": "python",
   "pygments_lexer": "ipython3",
   "version": "3.10.9"
  }
 },
 "nbformat": 4,
 "nbformat_minor": 2
}
