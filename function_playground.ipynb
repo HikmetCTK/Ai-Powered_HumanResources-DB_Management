{
 "cells": [
  {
   "cell_type": "code",
   "execution_count": null,
   "metadata": {
    "vscode": {
     "languageId": "plaintext"
    }
   },
   "outputs": [],
   "source": [
    "import pymysql\n",
    "employe_list=[] #qlistwidget listesi #FEVZİ \n",
    "employe_listv2=[] \n",
    "def load_employee():\n",
    "    connection=connection_check()\n",
    "    try:\n",
    "\n",
    "        with connection.cursor() as cursor:\n",
    "            query=\"select employee_id,first_name,last_name from employees\"\n",
    "            cursor.execute(query)\n",
    "            employees=cursor.fetchall()\n",
    "            for emp in employees:\n",
    "                employe_list.append(f\"{emp[0]}:{emp[1]} {emp[2]}\")\n",
    "                employe_listv2.append(emp)\n",
    "    except pymysql.MySQLError as e:\n",
    "        return str(e)\n",
    "    finally:\n",
    "        connection.close()\n",
    "\n",
    "print(employe_list)\n",
    "#print(employe_listv2)\n",
    "\n",
    "def not_working():\n",
    "    selected_employee=employe_list[1] #selected_employee by user from list .!>>>FEVZİ BURAYI  DEĞİŞTİR \n",
    "    connection=connection_check()\n",
    "    try:\n",
    "        with connection.cursor() as cursor:\n",
    "           query=\"update employees set is_active=0 where employee_id=%s\"\n",
    "           employee_id=selected_employee[0]  #selecting id\n",
    "           cursor.execute(query,employee_id)\n",
    "           connection.commit()\n",
    "    except pymysql.MySQLError as e:\n",
    "        return str(e)       \n",
    "    finally:\n",
    "        connection.close()\n",
    "\n",
    "load_employee()\n",
    "not_working()\n"
   ]
  }
 ],
 "metadata": {
  "language_info": {
   "name": "python"
  }
 },
 "nbformat": 4,
 "nbformat_minor": 2
}
